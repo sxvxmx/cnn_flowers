{
 "cells": [
  {
   "cell_type": "code",
   "execution_count": 31,
   "metadata": {},
   "outputs": [],
   "source": [
    "import requests \n",
    "import shutil\n",
    "import pandas as pd\n",
    "import urllib.request "
   ]
  },
  {
   "cell_type": "code",
   "execution_count": 32,
   "metadata": {},
   "outputs": [],
   "source": [
    "data = pd.read_csv(\"datasets/flowers/observations-388827.csv\")"
   ]
  },
  {
   "cell_type": "code",
   "execution_count": 33,
   "metadata": {},
   "outputs": [
    {
     "data": {
      "text/html": [
       "<div>\n",
       "<style scoped>\n",
       "    .dataframe tbody tr th:only-of-type {\n",
       "        vertical-align: middle;\n",
       "    }\n",
       "\n",
       "    .dataframe tbody tr th {\n",
       "        vertical-align: top;\n",
       "    }\n",
       "\n",
       "    .dataframe thead th {\n",
       "        text-align: right;\n",
       "    }\n",
       "</style>\n",
       "<table border=\"1\" class=\"dataframe\">\n",
       "  <thead>\n",
       "    <tr style=\"text-align: right;\">\n",
       "      <th></th>\n",
       "      <th>id</th>\n",
       "      <th>image_url</th>\n",
       "      <th>scientific_name</th>\n",
       "      <th>taxon_id</th>\n",
       "    </tr>\n",
       "  </thead>\n",
       "  <tbody>\n",
       "    <tr>\n",
       "      <th>0</th>\n",
       "      <td>187632030</td>\n",
       "      <td>https://inaturalist-open-data.s3.amazonaws.com...</td>\n",
       "      <td>Mirabilis jalapa</td>\n",
       "      <td>50616</td>\n",
       "    </tr>\n",
       "    <tr>\n",
       "      <th>1</th>\n",
       "      <td>187638044</td>\n",
       "      <td>https://static.inaturalist.org/photos/32818972...</td>\n",
       "      <td>Mirabilis jalapa</td>\n",
       "      <td>50616</td>\n",
       "    </tr>\n",
       "    <tr>\n",
       "      <th>2</th>\n",
       "      <td>187651748</td>\n",
       "      <td>https://inaturalist-open-data.s3.amazonaws.com...</td>\n",
       "      <td>Mirabilis jalapa</td>\n",
       "      <td>50616</td>\n",
       "    </tr>\n",
       "    <tr>\n",
       "      <th>3</th>\n",
       "      <td>187662812</td>\n",
       "      <td>https://inaturalist-open-data.s3.amazonaws.com...</td>\n",
       "      <td>Mirabilis jalapa</td>\n",
       "      <td>50616</td>\n",
       "    </tr>\n",
       "    <tr>\n",
       "      <th>4</th>\n",
       "      <td>187672014</td>\n",
       "      <td>https://static.inaturalist.org/photos/32825766...</td>\n",
       "      <td>Mirabilis jalapa</td>\n",
       "      <td>50616</td>\n",
       "    </tr>\n",
       "  </tbody>\n",
       "</table>\n",
       "</div>"
      ],
      "text/plain": [
       "          id                                          image_url  \\\n",
       "0  187632030  https://inaturalist-open-data.s3.amazonaws.com...   \n",
       "1  187638044  https://static.inaturalist.org/photos/32818972...   \n",
       "2  187651748  https://inaturalist-open-data.s3.amazonaws.com...   \n",
       "3  187662812  https://inaturalist-open-data.s3.amazonaws.com...   \n",
       "4  187672014  https://static.inaturalist.org/photos/32825766...   \n",
       "\n",
       "    scientific_name  taxon_id  \n",
       "0  Mirabilis jalapa     50616  \n",
       "1  Mirabilis jalapa     50616  \n",
       "2  Mirabilis jalapa     50616  \n",
       "3  Mirabilis jalapa     50616  \n",
       "4  Mirabilis jalapa     50616  "
      ]
     },
     "execution_count": 33,
     "metadata": {},
     "output_type": "execute_result"
    }
   ],
   "source": [
    "data.head()\n"
   ]
  },
  {
   "cell_type": "code",
   "execution_count": 34,
   "metadata": {},
   "outputs": [],
   "source": [
    "for o,i in enumerate(data[\"image_url\"], 0):\n",
    "    res = requests.get(i,stream=True)\n",
    "    s = data[\"scientific_name\"][0]\n",
    "    with open(f\"images/{s}_{o}.png\",'wb') as f:\n",
    "        shutil.copyfileobj(res.raw, f)"
   ]
  }
 ],
 "metadata": {
  "kernelspec": {
   "display_name": ".venv",
   "language": "python",
   "name": "python3"
  },
  "language_info": {
   "codemirror_mode": {
    "name": "ipython",
    "version": 3
   },
   "file_extension": ".py",
   "mimetype": "text/x-python",
   "name": "python",
   "nbconvert_exporter": "python",
   "pygments_lexer": "ipython3",
   "version": "3.11.4"
  },
  "orig_nbformat": 4
 },
 "nbformat": 4,
 "nbformat_minor": 2
}
